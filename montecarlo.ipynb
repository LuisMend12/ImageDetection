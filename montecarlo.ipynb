{
 "cells": [
  {
   "cell_type": "code",
   "execution_count": null,
   "id": "6824b8f8",
   "metadata": {
    "vscode": {
     "languageId": "plaintext"
    }
   },
   "outputs": [],
   "source": [
    "import numpy as np  \n",
    "import matplotlib.pyplot as plt \n",
    "\n",
    "\n",
    "a = 0\n",
    "b = 0\n",
    "\n",
    "x = np.linspace(a, b, 1000)\n",
    "\n",
    "\n",
    "pdf_values  = np.full_like(x, 1 / (b - a))\n",
    "\n",
    "\n",
    "plt.plot(x, pdf_values)\n",
    "plt.xlabel('x')\n",
    "plt.ylabel('Probability Density')\n",
    "plt.title('Uniform Distribution PDF')\n",
    "plt.grid(True)\n",
    "plt.show()"
   ]
  }
 ],
 "metadata": {
  "language_info": {
   "name": "python"
  }
 },
 "nbformat": 4,
 "nbformat_minor": 5
}
