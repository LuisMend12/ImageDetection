{
 "cells": [
  {
   "cell_type": "code",
   "execution_count": 1,
   "id": "77ff821e",
   "metadata": {},
   "outputs": [
    {
     "name": "stdout",
     "output_type": "stream",
     "text": [
      "[5.78920068 8.45419389 9.1441108  ... 8.48081348 5.74811009 5.37265521]\n"
     ]
    }
   ],
   "source": [
    "import numpy as np\n",
    "sims = 100000\n",
    "\n",
    "A = np.random.uniform(1, 5, sims)\n",
    "B = np.random.uniform(2, 6, sims)\n",
    "\n",
    "duration = A + B\n",
    "\n",
    "print(duration)"
   ]
  },
  {
   "cell_type": "code",
   "execution_count": 2,
   "id": "58ef8221",
   "metadata": {},
   "outputs": [
    {
     "data": {
      "image/png": "[encoded data removed]",
      "text/plain": [
       "<Figure size 300x150 with 1 Axes>"
      ]
     },
     "metadata": {},
     "output_type": "display_data"
    },
    {
     "name": "stdout",
     "output_type": "stream",
     "text": [
      "0.1257\n"
     ]
    }
   ],
   "source": [
    "import matplotlib.pyplot as plt\n",
    "plt.figure(figsize = (3, 1.5))\n",
    "plt.hist(duration, density=True)\n",
    "plt.axvline(9, color='r')\n",
    "plt.show()\n",
    "print((duration > 9).sum()/sims)"
   ]
  }
 ],
 "metadata": {
  "kernelspec": {
   "display_name": "base",
   "language": "python",
   "name": "python3"
  },
  "language_info": {
   "codemirror_mode": {
    "name": "ipython",
    "version": 3
   },
   "file_extension": ".py",
   "mimetype": "text/x-python",
   "name": "python",
   "nbconvert_exporter": "python",
   "pygments_lexer": "ipython3",
   "version": "3.12.7"
  }
 },
 "nbformat": 4,
 "nbformat_minor": 5
}
