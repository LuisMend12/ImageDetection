{
 "cells": [
  {
   "cell_type": "code",
   "execution_count": null,
   "id": "77ff821e",
   "metadata": {},
   "outputs": [],
   "source": [
    "import numpy as np\n",
    "sims = 100000\n",
    "\n",
    "A = np.random.uniform(1, 5, sims)\n",
    "B = np.random.uniform(2, 6, sims)\n",
    "\n",
    "duration = A + B\n",
    "\n",
    "print(duration)"
   ]
  }
 ],
 "metadata": {
  "language_info": {
   "name": "python"
  }
 },
 "nbformat": 4,
 "nbformat_minor": 5
}
