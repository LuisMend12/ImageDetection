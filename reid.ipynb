{
 "cells": [
  {
   "cell_type": "code",
   "execution_count": 5,
   "id": "7c07c928",
   "metadata": {},
   "outputs": [],
   "source": [
    "import torch \n",
    "import numpy as np\n",
    "from torch.nn import functional as F\n",
    "\n",
    "def euclidean_distance(qf, gf):\n",
    "    m = qf.shape[0]\n",
    "    n = gf.shape[0]\n",
    "    dist_mat = torch.pow(qf, 2).sum(dim=1, keepdim=True).expand(m, n) + \\\n",
    "               torch.pow(gf, 2).sum(dim=1, keepdim=True).expand(n, m).t()\n",
    "    dist_mat.addmm_(1, -2, qf, gf.t())\n",
    "    return dist_mat.cpu().numpy()\n",
    "\n",
    "'''\n",
    "A quantitative metric for Identity density to replce visualization tools \n",
    "like t-SNE, which is random and only focus on few samples.\n",
    "'''\n",
    "def ID2(feats, pid):\n",
    "    feats = F.normalize(feats , dim=1, p=2)\n",
    "    pids = np.asarray(pid)\n",
    "\n",
    "    id_set = set(pids)\n",
    "    id_list = list(id_set)\n",
    "    id_list.sort()\n",
    "    id_center = []\n",
    "    for i in id_list:\n",
    "        mask = pids == i\n",
    "        x = feats[mask].mean(dim=0)\n",
    "        id_center.append(x)\n",
    "\n",
    "    density = torch.zeros(feats.size(0))\n",
    "    idx = 0\n",
    "    for i in id_list:\n",
    "        mask = pids == i\n",
    "        center = id_center[idx].unsqueeze(0)\n",
    "        density[mask] = torch.tensor(euclidean_distance(feats[mask], center)).squeeze(1)\n",
    "        idx += 1\n",
    "    return density\n"
   ]
  },
  {
   "cell_type": "code",
   "execution_count": 6,
   "id": "9c656131",
   "metadata": {},
   "outputs": [
    {
     "name": "stdout",
     "output_type": "stream",
     "text": [
      "Feature vector shape: torch.Size([10, 512])\n",
      "Person IDs: [0, 0, 1, 1, 2, 2, 3, 3, 4, 4]\n",
      "Density scores: tensor([0.5327, 0.5327, 0.4876, 0.4876, 0.5300, 0.5300, 0.5116, 0.5116, 0.4855,\n",
      "        0.4855])\n"
     ]
    },
    {
     "name": "stderr",
     "output_type": "stream",
     "text": [
      "C:\\Users\\Luis Mendez\\AppData\\Local\\Temp\\ipykernel_33348\\3371697051.py:10: UserWarning: This overload of addmm_ is deprecated:\n",
      "\taddmm_(Number beta, Number alpha, Tensor mat1, Tensor mat2)\n",
      "Consider using one of the following signatures instead:\n",
      "\taddmm_(Tensor mat1, Tensor mat2, *, Number beta = 1, Number alpha = 1) (Triggered internally at C:\\actions-runner\\_work\\pytorch\\pytorch\\pytorch\\torch\\csrc\\utils\\python_arg_parser.cpp:1661.)\n",
      "  dist_mat.addmm_(1, -2, qf, gf.t())\n"
     ]
    }
   ],
   "source": [
    "# Simulate fake feature vectors (10 people, 512-dimensional features)\n",
    "num_samples = 10\n",
    "feature_dim = 512\n",
    "torch.manual_seed(0)  # for reproducibility\n",
    "feats = torch.randn(num_samples, feature_dim)\n",
    "\n",
    "# Simulate person IDs: 5 classes, 2 samples per person\n",
    "pid = [i // 2 for i in range(num_samples)]  # [0,0,1,1,2,2,3,3,4,4]\n",
    "\n",
    "# Test the ID2 function\n",
    "density_scores = ID2(feats, pid)\n",
    "\n",
    "# Print results\n",
    "print(\"Feature vector shape:\", feats.shape)\n",
    "print(\"Person IDs:\", pid)\n",
    "print(\"Density scores:\", density_scores)\n"
   ]
  }
 ],
 "metadata": {
  "kernelspec": {
   "display_name": "base",
   "language": "python",
   "name": "python3"
  },
  "language_info": {
   "codemirror_mode": {
    "name": "ipython",
    "version": 3
   },
   "file_extension": ".py",
   "mimetype": "text/x-python",
   "name": "python",
   "nbconvert_exporter": "python",
   "pygments_lexer": "ipython3",
   "version": "3.12.7"
  }
 },
 "nbformat": 4,
 "nbformat_minor": 5
}
