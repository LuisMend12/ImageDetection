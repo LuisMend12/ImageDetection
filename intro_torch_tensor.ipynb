{
 "cells": [
  {
   "cell_type": "code",
   "execution_count": null,
   "id": "91e85621",
   "metadata": {
    "vscode": {
     "languageId": "plaintext"
    }
   },
   "outputs": [],
   "source": [
    "!pip install torch matplotlib\n",
    "\n",
    "import torch\n",
    "import torch.nn as nn\n",
    "import matplotlib.pyplot as plt\n",
    "\n",
    "# Create a dummy input tensor to simulate a grayscale image (e.g., 28x28)\n",
    "# Here we assume it's already flattened\n",
    "torch_tensor_gray = torch.randn(1, 28 * 28)  # batch size 1, input size 784\n",
    "\n",
    "# Define the model\n",
    "model = nn.Linear(in_features=28 * 28, out_features=10)\n",
    "\n",
    "# Move to CUDA if available\n",
    "device = 'cuda' if torch.cuda.is_available() else 'cpu'\n",
    "model = model.to(device)\n",
    "torch_tensor_gray = torch_tensor_gray.to(device)  # This line was broken in your code\n",
    "\n",
    "# Pass through the model\n",
    "scores = model(torch_tensor_gray)\n",
    "\n",
    "# Move to CPU for visualization\n",
    "scores_cpu = scores.detach().cpu().squeeze()\n",
    "\n",
    "# Plot the scores as a bar graph\n",
    "plt.bar(range(10), scores_cpu)\n",
    "plt.xlabel('Class')\n",
    "plt.ylabel('Score')\n",
    "plt.title('Output Scores from Linear Layer')\n",
    "plt.show()\n"
   ]
  }
 ],
 "metadata": {
  "language_info": {
   "name": "python"
  }
 },
 "nbformat": 4,
 "nbformat_minor": 5
}
