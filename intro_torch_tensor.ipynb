{
 "cells": [
  {
   "cell_type": "code",
   "execution_count": null,
   "id": "91e85621",
   "metadata": {
    "vscode": {
     "languageId": "plaintext"
    }
   },
   "outputs": [],
   "source": [
    "!pip install torch matplotlib\n",
    "\n",
    "import torch\n",
    "import torch.nn as nn\n",
    "import matplotlib.pyplot as plt\n",
    "\n",
    "# Create a dummy input tensor to simulate a grayscale image (e.g., 28x28)\n",
    "# Here we assume it's already flattened\n",
    "torch_tensor_gray = torch.randn(1, 28 * 28)  # batch size 1, input size 784\n",
    "\n",
    "# Define the model\n",
    "model = nn.Linear(in_features=28 * 28, out_features=10)\n",
    "\n",
    "# Move to CUDA if available\n",
    "device = 'cuda' if torch.cuda.is_available() else 'cpu'\n",
    "model = model.to(device)\n",
    "torch_tensor_gray = torch_tensor_gray.to(device)  # This line was broken in your code\n",
    "\n",
    "# Pass through the model\n",
    "scores = model(torch_tensor_gray)\n",
    "\n",
    "# Move to CPU for visualization\n",
    "scores_cpu = scores.detach().cpu().squeeze()\n",
    "\n",
    "# Plot the scores as a bar graph\n",
    "plt.bar(range(10), scores_cpu)\n",
    "plt.xlabel('Class')\n",
    "plt.ylabel('Score')\n",
    "plt.title('Output Scores from Linear Layer')\n",
    "plt.show()\n"
   ]
  },
  {
   "cell_type": "code",
   "execution_count": null,
   "id": "e96ee017",
   "metadata": {
    "vscode": {
     "languageId": "plaintext"
    }
   },
   "outputs": [],
   "source": [
    "transform = transforms.toImage()\n",
    "image_tensor = transform(np.array)\n",
    "\n",
    "print(image_tensor.shape)\n",
    "\n",
    "print(image_tensor.permute(1,2,0).shape)\n",
    "\n",
    "\n",
    "plt.imshow(image_tensor)\n",
    "\n",
    "plt.imshow(image_tensor.permute(1,2,0))"
   ]
  },
  {
   "cell_type": "code",
   "execution_count": null,
   "id": "7232157c",
   "metadata": {
    "vscode": {
     "languageId": "plaintext"
    }
   },
   "outputs": [],
   "source": [
    "import torch\n",
    "\n",
    "w1 = torch.tensor([4.0], requires_grad=True)\n",
    "\n",
    "x1 = torch.tensor([5.0], requires_grad=False)\n",
    "\n",
    "y = torch.tensor([6.0], requires_grad=False)\n",
    "\n",
    "L = torch.abs(w1 * x1 - y)\n",
    "\n",
    "print(f\"1 = {z.item()}, requires_grad = {L.requires_grad}\")\n",
    "\n",
    "L.backward()\n",
    "\n",
    "print(f\"d1/dw1 = {w1.grad}\")"
   ]
  }
 ],
 "metadata": {
  "language_info": {
   "name": "python"
  }
 },
 "nbformat": 4,
 "nbformat_minor": 5
}
