{
 "cells": [
  {
   "cell_type": "code",
   "execution_count": 3,
   "id": "91e85621",
   "metadata": {},
   "outputs": [
    {
     "name": "stdout",
     "output_type": "stream",
     "text": [
      "Defaulting to user installation because normal site-packages is not writeable\n",
      "Requirement already satisfied: torch in c:\\users\\luis mendez\\appdata\\roaming\\python\\python312\\site-packages (2.6.0)\n",
      "Requirement already satisfied: matplotlib in c:\\programdata\\anaconda3\\lib\\site-packages (3.9.2)\n"
     ]
    },
    {
     "name": "stderr",
     "output_type": "stream",
     "text": [
      "ERROR: Could not find a version that satisfies the requirement transfomers (from versions: none)\n",
      "ERROR: No matching distribution found for transfomers\n"
     ]
    },
    {
     "data": {
      "image/png": "[encoded data removed]",
      "text/plain": [
       "<Figure size 640x480 with 1 Axes>"
      ]
     },
     "metadata": {},
     "output_type": "display_data"
    }
   ],
   "source": [
    "!pip install torch matplotlib transfomers\n",
    "\n",
    "import torch\n",
    "import torch.nn as nn\n",
    "import matplotlib.pyplot as plt\n",
    "\n",
    "# Create a dummy input tensor to simulate a grayscale image (e.g., 28x28)\n",
    "# Here we assume it's already flattened\n",
    "torch_tensor_gray = torch.randn(1, 28 * 28)  # batch size 1, input size 784\n",
    "\n",
    "# Define the model\n",
    "model = nn.Linear(in_features=28 * 28, out_features=10)\n",
    "\n",
    "# Move to CUDA if available\n",
    "device = 'cuda' if torch.cuda.is_available() else 'cpu'\n",
    "model = model.to(device)\n",
    "torch_tensor_gray = torch_tensor_gray.to(device)  # This line was broken in your code\n",
    "\n",
    "# Pass through the model\n",
    "scores = model(torch_tensor_gray)\n",
    "\n",
    "# Move to CPU for visualization\n",
    "scores_cpu = scores.detach().cpu().squeeze()\n",
    "\n",
    "# Plot the scores as a bar graph\n",
    "plt.bar(range(10), scores_cpu)\n",
    "plt.xlabel('Class')\n",
    "plt.ylabel('Score')\n",
    "plt.title('Output Scores from Linear Layer')\n",
    "plt.show()\n"
   ]
  },
  {
   "cell_type": "code",
   "execution_count": 4,
   "id": "e96ee017",
   "metadata": {},
   "outputs": [
    {
     "ename": "NameError",
     "evalue": "name 'transforms' is not defined",
     "output_type": "error",
     "traceback": [
      "\u001b[1;31m---------------------------------------------------------------------------\u001b[0m",
      "\u001b[1;31mNameError\u001b[0m                                 Traceback (most recent call last)",
      "Cell \u001b[1;32mIn[4], line 1\u001b[0m\n\u001b[1;32m----> 1\u001b[0m transform \u001b[38;5;241m=\u001b[39m transforms\u001b[38;5;241m.\u001b[39mtoImage()\n\u001b[0;32m      2\u001b[0m image_tensor \u001b[38;5;241m=\u001b[39m transform(np\u001b[38;5;241m.\u001b[39marray)\n\u001b[0;32m      4\u001b[0m \u001b[38;5;28mprint\u001b[39m(image_tensor\u001b[38;5;241m.\u001b[39mshape)\n",
      "\u001b[1;31mNameError\u001b[0m: name 'transforms' is not defined"
     ]
    }
   ],
   "source": [
    "\n",
    "transform = transforms.toImage()\n",
    "image_tensor = transform(np.array)\n",
    "\n",
    "print(image_tensor.shape)\n",
    "\n",
    "print(image_tensor.permute(1,2,0).shape)\n",
    "\n",
    "\n",
    "plt.imshow(image_tensor)\n",
    "\n",
    "plt.imshow(image_tensor.permute(1,2,0))"
   ]
  },
  {
   "cell_type": "code",
   "execution_count": null,
   "id": "7232157c",
   "metadata": {},
   "outputs": [],
   "source": [
    "import torch\n",
    "\n",
    "w1 = torch.tensor([4.0], requires_grad=True)\n",
    "\n",
    "x1 = torch.tensor([5.0], requires_grad=False)\n",
    "\n",
    "y = torch.tensor([6.0], requires_grad=False)\n",
    "\n",
    "L = torch.abs(w1 * x1 - y)\n",
    "\n",
    "print(f\"1 = {z.item()}, requires_grad = {L.requires_grad}\")\n",
    "\n",
    "L.backward()\n",
    "\n",
    "print(f\"d1/dw1 = {w1.grad}\")"
   ]
  },
  {
   "cell_type": "code",
   "execution_count": null,
   "id": "2aa731ca",
   "metadata": {},
   "outputs": [],
   "source": [
    "#Numerical Stability example\n",
    "\n",
    "original_values = torch.tensor([255,204,170], dtype=torch.uint8)\n",
    "print(f\"original values: {original_values}\")\n",
    "\n",
    "float_values = original_values.float() / 255\n",
    "print(f\"Scaled values: {float_values}\")\n",
    "\n",
    "print(f\"original exp: {torch.exp(original_values)}\")\n",
    "print(f\"Scaled exp: {torch.exp(float_values)}\")"
   ]
  },
  {
   "cell_type": "code",
   "execution_count": null,
   "id": "41c10b5a",
   "metadata": {},
   "outputs": [],
   "source": [
    "transform = transforms.Compose([\n",
    "    transforms.ToImage(),\n",
    "    transforms.ToDType(torch.float32, scale=True)])\n",
    "\n",
    "image_tensor = transform(pil_image)\n",
    "\n",
    "print(image_tensor.max(), image_tensor.min())"
   ]
  },
  {
   "cell_type": "code",
   "execution_count": null,
   "id": "a323fe3a",
   "metadata": {},
   "outputs": [],
   "source": [
    "import torch.nn as nn \n",
    "\n",
    "l_h_layer = nn.Linear(in_features=3, out_features=4, bias=False)\n",
    "h_o_layer = nn.Linear(in_features=4, out_features=1, bias=False)\n",
    "\n",
    "model = nn.Sequential(\n",
    "        l_h_layer,\n",
    "        nn.ReLU(),\n",
    "        h_o_layer,\n",
    ")\n",
    "\n",
    "input_data = torch.tensor([1.0, 2.0, 3.0], dtype=torch.float32)\n",
    "\n",
    "\n",
    "prediction = model(input_data)\n",
    "\n",
    "target = torch.tensor([11.], dtype=torch.float32)\n",
    "\n",
    "loss_function = nn.L1loss()\n",
    "\n",
    "\n",
    "loss_value = loss_function(target, prediction)"
   ]
  },
  {
   "cell_type": "code",
   "execution_count": null,
   "id": "ce7c192f",
   "metadata": {},
   "outputs": [],
   "source": [
    "import torch\n",
    "import torch.nn as nn\n",
    "\n",
    "layer = nn.Linear(in_features=4, out_features=1, bias=True)\n",
    "\n",
    "for name, param in layer.named_parameters():\n",
    "    print(f'{name}: {param:shape}')\n",
    "    print(param)\n",
    "\n",
    "x = torch.randn(5, 4)\n",
    "output = layer(x)\n",
    "\n",
    "print(output.shape)"
   ]
  }
 ],
 "metadata": {
  "kernelspec": {
   "display_name": "base",
   "language": "python",
   "name": "python3"
  },
  "language_info": {
   "codemirror_mode": {
    "name": "ipython",
    "version": 3
   },
   "file_extension": ".py",
   "mimetype": "text/x-python",
   "name": "python",
   "nbconvert_exporter": "python",
   "pygments_lexer": "ipython3",
   "version": "3.12.7"
  }
 },
 "nbformat": 4,
 "nbformat_minor": 5
}
